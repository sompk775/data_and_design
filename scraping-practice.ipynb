{
 "cells": [
  {
   "cell_type": "code",
   "execution_count": 1,
   "metadata": {},
   "outputs": [],
   "source": [
    "url = 'http://books.toscrape.com/catalogue/category/books/horror_31/index.html'"
   ]
  },
  {
   "cell_type": "code",
   "execution_count": 2,
   "metadata": {},
   "outputs": [],
   "source": [
    "from bs4 import BeautifulSoup\n",
    "import requests"
   ]
  },
  {
   "cell_type": "code",
   "execution_count": 3,
   "metadata": {},
   "outputs": [],
   "source": [
    "response = requests.get(url)\n",
    "soup = BeautifulSoup(response.text, 'html.parser')"
   ]
  },
  {
   "cell_type": "code",
   "execution_count": 4,
   "metadata": {},
   "outputs": [
    {
     "data": {
      "text/plain": [
       "'\\n\\n\\n\\n\\n  \\n\\n\\n'"
      ]
     },
     "execution_count": 4,
     "metadata": {},
     "output_type": "execute_result"
    }
   ],
   "source": [
    "soup.text[:10]"
   ]
  },
  {
   "cell_type": "code",
   "execution_count": 5,
   "metadata": {},
   "outputs": [
    {
     "data": {
      "text/plain": [
       "<a href=\"../../../../index.html\">Books to Scrape</a>"
      ]
     },
     "execution_count": 5,
     "metadata": {},
     "output_type": "execute_result"
    }
   ],
   "source": [
    "soup.find('a')"
   ]
  },
  {
   "cell_type": "code",
   "execution_count": 6,
   "metadata": {},
   "outputs": [],
   "source": [
    "books = soup.find('div', {'class':'container-fluid page'})"
   ]
  },
  {
   "cell_type": "code",
   "execution_count": 7,
   "metadata": {},
   "outputs": [
    {
     "data": {
      "text/plain": [
       "<div id=\"promotions_left\">\n",
       "</div>"
      ]
     },
     "execution_count": 7,
     "metadata": {},
     "output_type": "execute_result"
    }
   ],
   "source": [
    "books.find('div').div.div"
   ]
  },
  {
   "cell_type": "code",
   "execution_count": 8,
   "metadata": {},
   "outputs": [
    {
     "data": {
      "text/plain": [
       "<a href=\"../../../../index.html\">Home</a>"
      ]
     },
     "execution_count": 8,
     "metadata": {},
     "output_type": "execute_result"
    }
   ],
   "source": [
    "books.find('a')"
   ]
  },
  {
   "cell_type": "code",
   "execution_count": 9,
   "metadata": {},
   "outputs": [
    {
     "data": {
      "text/plain": [
       "{'href': '../../../../index.html'}"
      ]
     },
     "execution_count": 9,
     "metadata": {},
     "output_type": "execute_result"
    }
   ],
   "source": [
    "books.find('a').attrs"
   ]
  },
  {
   "cell_type": "code",
   "execution_count": 10,
   "metadata": {},
   "outputs": [],
   "source": [
    "books.find('span')"
   ]
  },
  {
   "cell_type": "code",
   "execution_count": 11,
   "metadata": {},
   "outputs": [
    {
     "data": {
      "text/plain": [
       "'../../../../index.html'"
      ]
     },
     "execution_count": 11,
     "metadata": {},
     "output_type": "execute_result"
    }
   ],
   "source": [
    "books.find('a').attrs['href']"
   ]
  },
  {
   "cell_type": "code",
   "execution_count": 12,
   "metadata": {},
   "outputs": [],
   "source": [
    "links = books.find_all('a')"
   ]
  },
  {
   "cell_type": "code",
   "execution_count": 13,
   "metadata": {},
   "outputs": [
    {
     "data": {
      "text/plain": [
       "[<a href=\"../../../../index.html\">Home</a>,\n",
       " <a href=\"../../books_1/index.html\">Books</a>,\n",
       " <a href=\"../../books_1/index.html\">\n",
       "                             \n",
       "                                 Books\n",
       "                             \n",
       "                         </a>,\n",
       " <a href=\"../travel_2/index.html\">\n",
       "                             \n",
       "                                 Travel\n",
       "                             \n",
       "                         </a>,\n",
       " <a href=\"../mystery_3/index.html\">\n",
       "                             \n",
       "                                 Mystery\n",
       "                             \n",
       "                         </a>,\n",
       " <a href=\"../historical-fiction_4/index.html\">\n",
       "                             \n",
       "                                 Historical Fiction\n",
       "                             \n",
       "                         </a>,\n",
       " <a href=\"../sequential-art_5/index.html\">\n",
       "                             \n",
       "                                 Sequential Art\n",
       "                             \n",
       "                         </a>,\n",
       " <a href=\"../classics_6/index.html\">\n",
       "                             \n",
       "                                 Classics\n",
       "                             \n",
       "                         </a>,\n",
       " <a href=\"../philosophy_7/index.html\">\n",
       "                             \n",
       "                                 Philosophy\n",
       "                             \n",
       "                         </a>,\n",
       " <a href=\"../romance_8/index.html\">\n",
       "                             \n",
       "                                 Romance\n",
       "                             \n",
       "                         </a>,\n",
       " <a href=\"../womens-fiction_9/index.html\">\n",
       "                             \n",
       "                                 Womens Fiction\n",
       "                             \n",
       "                         </a>,\n",
       " <a href=\"../fiction_10/index.html\">\n",
       "                             \n",
       "                                 Fiction\n",
       "                             \n",
       "                         </a>,\n",
       " <a href=\"../childrens_11/index.html\">\n",
       "                             \n",
       "                                 Childrens\n",
       "                             \n",
       "                         </a>,\n",
       " <a href=\"../religion_12/index.html\">\n",
       "                             \n",
       "                                 Religion\n",
       "                             \n",
       "                         </a>,\n",
       " <a href=\"../nonfiction_13/index.html\">\n",
       "                             \n",
       "                                 Nonfiction\n",
       "                             \n",
       "                         </a>,\n",
       " <a href=\"../music_14/index.html\">\n",
       "                             \n",
       "                                 Music\n",
       "                             \n",
       "                         </a>,\n",
       " <a href=\"../default_15/index.html\">\n",
       "                             \n",
       "                                 Default\n",
       "                             \n",
       "                         </a>,\n",
       " <a href=\"../science-fiction_16/index.html\">\n",
       "                             \n",
       "                                 Science Fiction\n",
       "                             \n",
       "                         </a>,\n",
       " <a href=\"../sports-and-games_17/index.html\">\n",
       "                             \n",
       "                                 Sports and Games\n",
       "                             \n",
       "                         </a>,\n",
       " <a href=\"../add-a-comment_18/index.html\">\n",
       "                             \n",
       "                                 Add a comment\n",
       "                             \n",
       "                         </a>,\n",
       " <a href=\"../fantasy_19/index.html\">\n",
       "                             \n",
       "                                 Fantasy\n",
       "                             \n",
       "                         </a>,\n",
       " <a href=\"../new-adult_20/index.html\">\n",
       "                             \n",
       "                                 New Adult\n",
       "                             \n",
       "                         </a>,\n",
       " <a href=\"../young-adult_21/index.html\">\n",
       "                             \n",
       "                                 Young Adult\n",
       "                             \n",
       "                         </a>,\n",
       " <a href=\"../science_22/index.html\">\n",
       "                             \n",
       "                                 Science\n",
       "                             \n",
       "                         </a>,\n",
       " <a href=\"../poetry_23/index.html\">\n",
       "                             \n",
       "                                 Poetry\n",
       "                             \n",
       "                         </a>,\n",
       " <a href=\"../paranormal_24/index.html\">\n",
       "                             \n",
       "                                 Paranormal\n",
       "                             \n",
       "                         </a>,\n",
       " <a href=\"../art_25/index.html\">\n",
       "                             \n",
       "                                 Art\n",
       "                             \n",
       "                         </a>,\n",
       " <a href=\"../psychology_26/index.html\">\n",
       "                             \n",
       "                                 Psychology\n",
       "                             \n",
       "                         </a>,\n",
       " <a href=\"../autobiography_27/index.html\">\n",
       "                             \n",
       "                                 Autobiography\n",
       "                             \n",
       "                         </a>,\n",
       " <a href=\"../parenting_28/index.html\">\n",
       "                             \n",
       "                                 Parenting\n",
       "                             \n",
       "                         </a>,\n",
       " <a href=\"../adult-fiction_29/index.html\">\n",
       "                             \n",
       "                                 Adult Fiction\n",
       "                             \n",
       "                         </a>,\n",
       " <a href=\"../humor_30/index.html\">\n",
       "                             \n",
       "                                 Humor\n",
       "                             \n",
       "                         </a>,\n",
       " <a href=\"index.html\">\n",
       " <strong>Horror</strong>\n",
       " </a>,\n",
       " <a href=\"../history_32/index.html\">\n",
       "                             \n",
       "                                 History\n",
       "                             \n",
       "                         </a>,\n",
       " <a href=\"../food-and-drink_33/index.html\">\n",
       "                             \n",
       "                                 Food and Drink\n",
       "                             \n",
       "                         </a>,\n",
       " <a href=\"../christian-fiction_34/index.html\">\n",
       "                             \n",
       "                                 Christian Fiction\n",
       "                             \n",
       "                         </a>,\n",
       " <a href=\"../business_35/index.html\">\n",
       "                             \n",
       "                                 Business\n",
       "                             \n",
       "                         </a>,\n",
       " <a href=\"../biography_36/index.html\">\n",
       "                             \n",
       "                                 Biography\n",
       "                             \n",
       "                         </a>,\n",
       " <a href=\"../thriller_37/index.html\">\n",
       "                             \n",
       "                                 Thriller\n",
       "                             \n",
       "                         </a>,\n",
       " <a href=\"../contemporary_38/index.html\">\n",
       "                             \n",
       "                                 Contemporary\n",
       "                             \n",
       "                         </a>,\n",
       " <a href=\"../spirituality_39/index.html\">\n",
       "                             \n",
       "                                 Spirituality\n",
       "                             \n",
       "                         </a>,\n",
       " <a href=\"../academic_40/index.html\">\n",
       "                             \n",
       "                                 Academic\n",
       "                             \n",
       "                         </a>,\n",
       " <a href=\"../self-help_41/index.html\">\n",
       "                             \n",
       "                                 Self Help\n",
       "                             \n",
       "                         </a>,\n",
       " <a href=\"../historical_42/index.html\">\n",
       "                             \n",
       "                                 Historical\n",
       "                             \n",
       "                         </a>,\n",
       " <a href=\"../christian_43/index.html\">\n",
       "                             \n",
       "                                 Christian\n",
       "                             \n",
       "                         </a>,\n",
       " <a href=\"../suspense_44/index.html\">\n",
       "                             \n",
       "                                 Suspense\n",
       "                             \n",
       "                         </a>,\n",
       " <a href=\"../short-stories_45/index.html\">\n",
       "                             \n",
       "                                 Short Stories\n",
       "                             \n",
       "                         </a>,\n",
       " <a href=\"../novels_46/index.html\">\n",
       "                             \n",
       "                                 Novels\n",
       "                             \n",
       "                         </a>,\n",
       " <a href=\"../health_47/index.html\">\n",
       "                             \n",
       "                                 Health\n",
       "                             \n",
       "                         </a>,\n",
       " <a href=\"../politics_48/index.html\">\n",
       "                             \n",
       "                                 Politics\n",
       "                             \n",
       "                         </a>,\n",
       " <a href=\"../cultural_49/index.html\">\n",
       "                             \n",
       "                                 Cultural\n",
       "                             \n",
       "                         </a>,\n",
       " <a href=\"../erotica_50/index.html\">\n",
       "                             \n",
       "                                 Erotica\n",
       "                             \n",
       "                         </a>,\n",
       " <a href=\"../crime_51/index.html\">\n",
       "                             \n",
       "                                 Crime\n",
       "                             \n",
       "                         </a>,\n",
       " <a href=\"../../../security_925/index.html\"><img alt=\"Security\" class=\"thumbnail\" src=\"../../../../media/cache/da/df/dadfac66a89774b46b10225362724c83.jpg\"/></a>,\n",
       " <a href=\"../../../security_925/index.html\" title=\"Security\">Security</a>,\n",
       " <a href=\"../../../follow-you-home_809/index.html\"><img alt=\"Follow You Home\" class=\"thumbnail\" src=\"../../../../media/cache/a7/4b/a74b35375ce874153fd352e33bc7bac9.jpg\"/></a>,\n",
       " <a href=\"../../../follow-you-home_809/index.html\" title=\"Follow You Home\">Follow You Home</a>,\n",
       " <a href=\"../../../the-loney_756/index.html\"><img alt=\"The Loney\" class=\"thumbnail\" src=\"../../../../media/cache/6d/10/6d10387a0175701d4ff456a0c7eee67b.jpg\"/></a>,\n",
       " <a href=\"../../../the-loney_756/index.html\" title=\"The Loney\">The Loney</a>,\n",
       " <a href=\"../../../pet-sematary_726/index.html\"><img alt=\"Pet Sematary\" class=\"thumbnail\" src=\"../../../../media/cache/7a/72/7a72465b21dbf998323e37b31f9a3f4a.jpg\"/></a>,\n",
       " <a href=\"../../../pet-sematary_726/index.html\" title=\"Pet Sematary\">Pet Sematary</a>,\n",
       " <a href=\"../../../doctor-sleep-the-shining-2_686/index.html\"><img alt=\"Doctor Sleep (The Shining #2)\" class=\"thumbnail\" src=\"../../../../media/cache/55/bf/55bfc858c1cb19867e41415532ae43c6.jpg\"/></a>,\n",
       " <a href=\"../../../doctor-sleep-the-shining-2_686/index.html\" title=\"Doctor Sleep (The Shining #2)\">Doctor Sleep (The Shining ...</a>,\n",
       " <a href=\"../../../psycho-sanitarium-psycho-15_628/index.html\"><img alt=\"Psycho: Sanitarium (Psycho #1.5)\" class=\"thumbnail\" src=\"../../../../media/cache/02/5c/025c30a378e2a4190e84f1429e81b803.jpg\"/></a>,\n",
       " <a href=\"../../../psycho-sanitarium-psycho-15_628/index.html\" title=\"Psycho: Sanitarium (Psycho #1.5)\">Psycho: Sanitarium (Psycho #1.5)</a>,\n",
       " <a href=\"../../../can-you-keep-a-secret-fear-street-relaunch-4_614/index.html\"><img alt=\"Can You Keep a Secret? (Fear Street Relaunch #4)\" class=\"thumbnail\" src=\"../../../../media/cache/0b/2f/0b2f432cc27132f688fcdf29618521e0.jpg\"/></a>,\n",
       " <a href=\"../../../can-you-keep-a-secret-fear-street-relaunch-4_614/index.html\" title=\"Can You Keep a Secret? (Fear Street Relaunch #4)\">Can You Keep a ...</a>,\n",
       " <a href=\"../../../red-dragon-hannibal-lecter-1_390/index.html\"><img alt=\"Red Dragon (Hannibal Lecter #1)\" class=\"thumbnail\" src=\"../../../../media/cache/30/66/3066f8bcd2e2ed6b45084355ff084a61.jpg\"/></a>,\n",
       " <a href=\"../../../red-dragon-hannibal-lecter-1_390/index.html\" title=\"Red Dragon (Hannibal Lecter #1)\">Red Dragon (Hannibal Lecter ...</a>,\n",
       " <a href=\"../../../dracula-the-un-dead_370/index.html\"><img alt=\"Dracula the Un-Dead\" class=\"thumbnail\" src=\"../../../../media/cache/13/ff/13fffcde653948339d3427184b7bd0b5.jpg\"/></a>,\n",
       " <a href=\"../../../dracula-the-un-dead_370/index.html\" title=\"Dracula the Un-Dead\">Dracula the Un-Dead</a>,\n",
       " <a href=\"../../../night-shift-night-shift-1-20_335/index.html\"><img alt=\"Night Shift (Night Shift #1-20)\" class=\"thumbnail\" src=\"../../../../media/cache/c0/02/c0029d48c2588e6d2a6a31c9f96088ba.jpg\"/></a>,\n",
       " <a href=\"../../../night-shift-night-shift-1-20_335/index.html\" title=\"Night Shift (Night Shift #1-20)\">Night Shift (Night Shift ...</a>,\n",
       " <a href=\"../../../needful-things_334/index.html\"><img alt=\"Needful Things\" class=\"thumbnail\" src=\"../../../../media/cache/2d/e0/2de0eff716ca13d12cf5420e88e1a8b3.jpg\"/></a>,\n",
       " <a href=\"../../../needful-things_334/index.html\" title=\"Needful Things\">Needful Things</a>,\n",
       " <a href=\"../../../misery_332/index.html\"><img alt=\"Misery\" class=\"thumbnail\" src=\"../../../../media/cache/7c/93/7c9302e392e128881e926d19f761da33.jpg\"/></a>,\n",
       " <a href=\"../../../misery_332/index.html\" title=\"Misery\">Misery</a>,\n",
       " <a href=\"../../../it_330/index.html\"><img alt=\"It\" class=\"thumbnail\" src=\"../../../../media/cache/f7/b7/f7b73392b12909a1e8261ef3f96c5fd1.jpg\"/></a>,\n",
       " <a href=\"../../../it_330/index.html\" title=\"It\">It</a>,\n",
       " <a href=\"../../../salems-lot_309/index.html\"><img alt=\"'Salem's Lot\" class=\"thumbnail\" src=\"../../../../media/cache/ee/d3/eed3afc5e444e3da5eec34e2b0036ec7.jpg\"/></a>,\n",
       " <a href=\"../../../salems-lot_309/index.html\" title=\"'Salem's Lot\">'Salem's Lot</a>,\n",
       " <a href=\"../../../the-stand_282/index.html\"><img alt=\"The Stand\" class=\"thumbnail\" src=\"../../../../media/cache/3a/7c/3a7c2393061031e7911d7b533b723391.jpg\"/></a>,\n",
       " <a href=\"../../../the-stand_282/index.html\" title=\"The Stand\">The Stand</a>,\n",
       " <a href=\"../../../the-girl-with-all-the-gifts_250/index.html\"><img alt=\"The Girl with All the Gifts\" class=\"thumbnail\" src=\"../../../../media/cache/41/c7/41c74d82b853606fe98182c417b4669c.jpg\"/></a>,\n",
       " <a href=\"../../../the-girl-with-all-the-gifts_250/index.html\" title=\"The Girl with All the Gifts\">The Girl with All ...</a>,\n",
       " <a href=\"../../../house-of-leaves_169/index.html\"><img alt=\"House of Leaves\" class=\"thumbnail\" src=\"../../../../media/cache/14/25/142563ccee483bc07632f9c083a68326.jpg\"/></a>,\n",
       " <a href=\"../../../house-of-leaves_169/index.html\" title=\"House of Leaves\">House of Leaves</a>]"
      ]
     },
     "execution_count": 13,
     "metadata": {},
     "output_type": "execute_result"
    }
   ],
   "source": [
    "links"
   ]
  },
  {
   "cell_type": "code",
   "execution_count": 14,
   "metadata": {},
   "outputs": [],
   "source": [
    "links[0].attrs['href']\n",
    "blinks = 'http://'+links[0].attrs['href']"
   ]
  },
  {
   "cell_type": "markdown",
   "metadata": {},
   "source": [
    "Note: Hello Jacob, I tried adding in the http: myself because the wesite I was using only supplied me with raw hrefs but I don't think I did it right... \n",
    "I know we're supposed to use beautifulsoup to get the titles but i'm stuck here"
   ]
  },
  {
   "cell_type": "code",
   "execution_count": 15,
   "metadata": {},
   "outputs": [
    {
     "ename": "AttributeError",
     "evalue": "'str' object has no attribute 'attrs'",
     "output_type": "error",
     "traceback": [
      "\u001b[0;31m---------------------------------------------------------------------------\u001b[0m",
      "\u001b[0;31mAttributeError\u001b[0m                            Traceback (most recent call last)",
      "\u001b[0;32m<ipython-input-15-bed869fc32d5>\u001b[0m in \u001b[0;36m<module>\u001b[0;34m()\u001b[0m\n\u001b[1;32m      1\u001b[0m \u001b[0;32mfor\u001b[0m \u001b[0mlink\u001b[0m \u001b[0;32min\u001b[0m \u001b[0mblinks\u001b[0m\u001b[0;34m:\u001b[0m\u001b[0;34m\u001b[0m\u001b[0m\n\u001b[0;32m----> 2\u001b[0;31m     \u001b[0mprint\u001b[0m\u001b[0;34m(\u001b[0m\u001b[0;34m'http://'\u001b[0m\u001b[0;34m+\u001b[0m\u001b[0mlink\u001b[0m\u001b[0;34m[\u001b[0m\u001b[0;36m0\u001b[0m\u001b[0;34m]\u001b[0m\u001b[0;34m.\u001b[0m\u001b[0mattrs\u001b[0m\u001b[0;34m[\u001b[0m\u001b[0;34m'href'\u001b[0m\u001b[0;34m]\u001b[0m\u001b[0;34m)\u001b[0m\u001b[0;34m\u001b[0m\u001b[0m\n\u001b[0m",
      "\u001b[0;31mAttributeError\u001b[0m: 'str' object has no attribute 'attrs'"
     ]
    }
   ],
   "source": [
    "for link in blinks:\n",
    "    print('http://'+link[0].attrs['href'])"
   ]
  },
  {
   "cell_type": "code",
   "execution_count": null,
   "metadata": {},
   "outputs": [],
   "source": [
    "b1 = requests.get('http://'+links[0].attrs['href'])\n",
    "sb1 = BeautifulSoup(b1.text, 'html.parser')"
   ]
  },
  {
   "cell_type": "code",
   "execution_count": null,
   "metadata": {},
   "outputs": [],
   "source": [
    "sb1.find('h1').text"
   ]
  },
  {
   "cell_type": "code",
   "execution_count": null,
   "metadata": {},
   "outputs": [],
   "source": [
    "sb1.find('h2').text"
   ]
  },
  {
   "cell_type": "code",
   "execution_count": null,
   "metadata": {},
   "outputs": [],
   "source": []
  }
 ],
 "metadata": {
  "kernelspec": {
   "display_name": "Python 3",
   "language": "python",
   "name": "python3"
  },
  "language_info": {
   "codemirror_mode": {
    "name": "ipython",
    "version": 3
   },
   "file_extension": ".py",
   "mimetype": "text/x-python",
   "name": "python",
   "nbconvert_exporter": "python",
   "pygments_lexer": "ipython3",
   "version": "3.6.5"
  }
 },
 "nbformat": 4,
 "nbformat_minor": 2
}
